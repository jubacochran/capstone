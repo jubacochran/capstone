{
 "cells": [
  {
   "cell_type": "markdown",
   "metadata": {
    "isInteractiveWindowMessageCell": true
   },
   "source": [
    "Connected to base (Python 3.11.7)"
   ]
  },
  {
   "cell_type": "code",
   "execution_count": 1,
   "metadata": {},
   "outputs": [],
   "source": [
    "from FirstSteps import column_converter,feature_skew_check\n",
    "from stall_margin_formulas import HPCStallMargin\n",
    "from sklearn.linear_model import LinearRegression\n",
    "import matplotlib.pyplot as plt\n",
    "from sklearn.metrics import mean_squared_error,mean_absolute_error,r2_score\n",
    "from sklearn.preprocessing import PolynomialFeatures,StandardScaler\n",
    "from sklearn.model_selection import GridSearchCV, train_test_split\n",
    "from sklearn.pipeline import Pipeline\n",
    "import seaborn as sns\n",
    "\n",
    "import warnings\n",
    "warnings.simplefilter(action='ignore', category=FutureWarning)\n",
    "import numpy as np\n",
    "\n",
    "\n"
   ]
  },
  {
   "cell_type": "code",
   "execution_count": 3,
   "metadata": {},
   "outputs": [
    {
     "name": "stdout",
     "output_type": "stream",
     "text": [
      "no failures converting dataframe columns\n",
      "<class 'pandas.core.frame.DataFrame'>\n",
      "RangeIndex: 20630 entries, 0 to 20629\n",
      "Data columns (total 26 columns):\n",
      " #   Column                                Non-Null Count  Dtype  \n",
      "---  ------                                --------------  -----  \n",
      " 0   Engine                                20630 non-null  int64  \n",
      " 1   Cycles                                20630 non-null  int64  \n",
      " 2   Operational Setting 1                 20630 non-null  float64\n",
      " 3   Operational Setting 2                 20630 non-null  float64\n",
      " 4   Operational Setting 3                 20630 non-null  float64\n",
      " 5   Fan inlet temperature ◦R              20630 non-null  float64\n",
      " 6   LPC outlet temperature ◦R             20630 non-null  float64\n",
      " 7   HPC outlet temperature ◦R             20630 non-null  float64\n",
      " 8   LPT outlet temperature ◦R             20630 non-null  float64\n",
      " 9   Fan inlet Pressure psia               20630 non-null  float64\n",
      " 10  bypass-duct pressure psia             20630 non-null  float64\n",
      " 11  HPC outlet pressure psia              20630 non-null  float64\n",
      " 12  Physical fan speed rpm                20630 non-null  float64\n",
      " 13  Physical core speed rpm               20630 non-null  float64\n",
      " 14  Engine pressure ratioP50/P2           20630 non-null  float64\n",
      " 15  HPC outlet Static pressure psia       20630 non-null  float64\n",
      " 16  Ratio of fuel flow to Ps30 pps/psia   20630 non-null  float64\n",
      " 17  Corrected fan speed rpm               20630 non-null  float64\n",
      " 18  Corrected core speed rpm              20630 non-null  float64\n",
      " 19  Bypass Ratio                          20630 non-null  float64\n",
      " 20  Burner fuel-air ratio                 20630 non-null  float64\n",
      " 21  Bleed Enthalpy                        20630 non-null  int64  \n",
      " 22  Required fan speed                    20630 non-null  int64  \n",
      " 23  Required fan conversion speed         20630 non-null  float64\n",
      " 24  High-pressure turbines Cool air flow  20630 non-null  float64\n",
      " 25  Low-pressure turbines Cool air flow   20630 non-null  float64\n",
      "dtypes: float64(22), int64(4)\n",
      "memory usage: 4.1 MB\n",
      "None\n",
      "Dataset has been loaded and converted CMAPSSData/train_FD001.txt\n",
      "no failures converting dataframe columns\n",
      "<class 'pandas.core.frame.DataFrame'>\n",
      "RangeIndex: 13095 entries, 0 to 13094\n",
      "Data columns (total 26 columns):\n",
      " #   Column                                Non-Null Count  Dtype  \n",
      "---  ------                                --------------  -----  \n",
      " 0   Engine                                13095 non-null  int64  \n",
      " 1   Cycles                                13095 non-null  int64  \n",
      " 2   Fan inlet temperature ◦R              13095 non-null  float64\n",
      " 3   LPC outlet temperature ◦R             13095 non-null  float64\n",
      " 4   Operational Setting 3                 13095 non-null  float64\n",
      " 5   HPC outlet temperature ◦R             13095 non-null  float64\n",
      " 6   LPT outlet temperature ◦R             13095 non-null  float64\n",
      " 7   Fan inlet Pressure psia               13095 non-null  float64\n",
      " 8   bypass-duct pressure psia             13095 non-null  float64\n",
      " 9   HPC outlet pressure psia              13095 non-null  float64\n",
      " 10  Physical fan speed rpm                13095 non-null  float64\n",
      " 11  Physical core speed rpm               13095 non-null  float64\n",
      " 12  Engine pressure ratioP50/P2           13095 non-null  float64\n",
      " 13  HPC outlet Static pressure psia       13095 non-null  float64\n",
      " 14  Ratio of fuel flow to Ps30 pps/psia   13095 non-null  float64\n",
      " 15  Corrected fan speed rpm               13095 non-null  float64\n",
      " 16  Corrected core speed rpm              13095 non-null  float64\n",
      " 17  Bypass Ratio                          13095 non-null  float64\n",
      " 18  Burner fuel-air ratio                 13095 non-null  float64\n",
      " 19  Bleed Enthalpy                        13095 non-null  float64\n",
      " 20  Required fan speed                    13095 non-null  float64\n",
      " 21  Required fan conversion speed         13095 non-null  int64  \n",
      " 22  High-pressure turbines Cool air flow  13095 non-null  int64  \n",
      " 23  Low-pressure turbines Cool air flow   13095 non-null  float64\n",
      " 24  38.86                                 13095 non-null  float64\n",
      " 25  23.3735                               13095 non-null  float64\n",
      "dtypes: float64(22), int64(4)\n",
      "memory usage: 2.6 MB\n",
      "None\n",
      "Dataset has been loaded and converted CMAPSSData/test_FD001.txt\n",
      "(20630, 26)\n",
      "(13095, 26)\n"
     ]
    }
   ],
   "source": [
    "FD001_data_training, _ = column_converter('CMAPSSData/train_FD001.txt')\n",
    "\n",
    "FD001_data_test, _ = column_converter('CMAPSSData/test_FD001.txt')\n",
    "\n",
    "print(FD001_data_training.shape)\n",
    "print(FD001_data_test.shape)"
   ]
  },
  {
   "cell_type": "code",
   "execution_count": null,
   "metadata": {},
   "outputs": [],
   "source": [
    "#Istantiating formulas dataclass\n",
    "hpc_training = HPCStallMargin()\n",
    "FD001_data_formulas_training = hpc_training.calculate_health_metrics(FD001_data_training)\n",
    "stall_margin_failure_threshold_training = hpc_training.stall_margin_failure_threshold\n",
    "\n",
    "# add wear manifest to df\n",
    "\n",
    "FD001_data_training['Baseline_Efficiency']= hpc_training.Baseline_Efficiency\n",
    "FD001_data_training['Initial_Wear_HPT_Efficiency'] = hpc_training.Initial_Wear_HPT_Efficiency\n",
    "FD001_data_training['Initial_Wear_HPT_Flow'] = hpc_training.Initial_Wear_HPT_Flow\n",
    "\n",
    "#Wear 3000 Cycles\n",
    "FD001_data_training['Wear_HPT_Efficiency_3000'] = hpc_training.Wear_HPT_Efficiency_3000\n",
    "FD001_data_training['Wear_HPT_Flow_3000'] = hpc_training.Wear_HPT_Flow_3000\n",
    "\n",
    "#Wear 6000 Cycles\n",
    "FD001_data_training['Wear_HPT_Efficiency_6000'] = hpc_training.Wear_HPT_Efficiency_6000\n",
    "FD001_data_training['Wear_HPT_Flow_6000'] = hpc_training.Wear_HPT_Flow_6000"
   ]
  },
  {
   "cell_type": "code",
   "execution_count": null,
   "metadata": {},
   "outputs": [],
   "source": [
    "hpc_test = HPCStallMargin()\n",
    "FD001_data_formulas_test = hpc_test.calculate_health_metrics(FD001_data_test)\n",
    "stall_margin_failure_threshold_test = hpc_test.stall_margin_failure_threshold\n",
    "\n",
    "FD001_data_test['Baseline_Efficiency']= hpc_training.Baseline_Efficiency\n",
    "FD001_data_test['Initial_Wear_HPT_Efficiency'] = hpc_training.Initial_Wear_HPT_Efficiency\n",
    "FD001_data_test['Initial_Wear_HPT_Flow'] = hpc_training.Initial_Wear_HPT_Flow\n",
    "\n",
    "#Wear 3000 Cycles\n",
    "FD001_data_test['Wear_HPT_Efficiency_3000'] = hpc_training.Wear_HPT_Efficiency_3000\n",
    "FD001_data_test['Wear_HPT_Flow_3000'] = hpc_training.Wear_HPT_Flow_3000\n",
    "\n",
    "#Wear 6000 Cycles\n",
    "FD001_data_test['Wear_HPT_Efficiency_6000'] = hpc_training.Wear_HPT_Efficiency_6000\n",
    "FD001_data_test['Wear_HPT_Flow_6000'] = hpc_training.Wear_HPT_Flow_6000\n",
    "\n"
   ]
  },
  {
   "cell_type": "code",
   "execution_count": null,
   "metadata": {},
   "outputs": [],
   "source": []
  },
  {
   "cell_type": "code",
   "execution_count": null,
   "metadata": {},
   "outputs": [],
   "source": []
  },
  {
   "cell_type": "code",
   "execution_count": null,
   "metadata": {},
   "outputs": [],
   "source": []
  },
  {
   "cell_type": "code",
   "execution_count": null,
   "metadata": {},
   "outputs": [],
   "source": []
  },
  {
   "cell_type": "code",
   "execution_count": null,
   "metadata": {},
   "outputs": [],
   "source": []
  },
  {
   "cell_type": "code",
   "execution_count": null,
   "metadata": {},
   "outputs": [],
   "source": []
  }
 ],
 "metadata": {
  "kernelspec": {
   "display_name": "base",
   "language": "python",
   "name": "python3"
  },
  "language_info": {
   "codemirror_mode": {
    "name": "ipython",
    "version": 3
   },
   "file_extension": ".py",
   "mimetype": "text/x-python",
   "name": "python",
   "nbconvert_exporter": "python",
   "pygments_lexer": "ipython3",
   "version": "3.11.7"
  }
 },
 "nbformat": 4,
 "nbformat_minor": 2
}
